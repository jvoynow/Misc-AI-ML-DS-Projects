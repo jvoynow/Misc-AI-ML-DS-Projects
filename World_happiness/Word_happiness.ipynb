{
 "cells": [
  {
   "cell_type": "code",
   "execution_count": 207,
   "metadata": {},
   "outputs": [],
   "source": [
    "import numpy as np\n",
    "import pandas as pd\n",
    "import matplotlib.pyplot as plt"
   ]
  },
  {
   "cell_type": "code",
   "execution_count": 208,
   "metadata": {},
   "outputs": [],
   "source": [
    "master_df = []\n",
    "for i in range(2015, 2020 + 1):\n",
    "    path = R'C:/Users/voyno/OneDrive/Desktop/Python Projects/Happiness_docs/' + str(i) + '.csv'\n",
    "    master_df.append(pd.read_csv(path))"
   ]
  },
  {
   "cell_type": "code",
   "execution_count": 209,
   "metadata": {},
   "outputs": [
    {
     "name": "stdout",
     "output_type": "stream",
     "text": [
      "df 0 :\t 12 features\n",
      "df 1 :\t 13 features\n",
      "df 2 :\t 12 features\n",
      "df 3 :\t 9 features\n",
      "df 4 :\t 9 features\n",
      "df 5 :\t 20 features\n"
     ]
    }
   ],
   "source": [
    "for i in range(len(master_df)):\n",
    "    print(\"df\",i,\":\\t\", len(master_df[i].columns), \"features\")"
   ]
  },
  {
   "cell_type": "code",
   "execution_count": 210,
   "metadata": {},
   "outputs": [],
   "source": [
    "def normalize(data):\n",
    "    \n",
    "    return (data - np.min(data)) / (np.max(data) - np.min(data))"
   ]
  },
  {
   "cell_type": "code",
   "execution_count": 211,
   "metadata": {},
   "outputs": [],
   "source": [
    "for i in range(len(master_df)):\n",
    "    for col in master_df[i].columns:\n",
    "        if master_df[i][col].dtypes != \"object\":\n",
    "            master_df[i][col] = normalize(master_df[i][col])"
   ]
  },
  {
   "cell_type": "code",
   "execution_count": 212,
   "metadata": {},
   "outputs": [
    {
     "name": "stdout",
     "output_type": "stream",
     "text": [
      "Year 2015\n",
      ".......................................................................................................................................\n",
      "['Country', 'Region', 'Happiness Rank', 'Happiness Score', 'Standard Error', 'Economy (GDP per Capita)', 'Family', 'Health (Life Expectancy)', 'Freedom', 'Trust (Government Corruption)', 'Generosity', 'Dystopia Residual'] \n",
      "\n",
      "\n",
      "Year 2016\n",
      ".......................................................................................................................................\n",
      "['Country', 'Region', 'Happiness Rank', 'Happiness Score', 'Lower Confidence Interval', 'Upper Confidence Interval', 'Economy (GDP per Capita)', 'Family', 'Health (Life Expectancy)', 'Freedom', 'Trust (Government Corruption)', 'Generosity', 'Dystopia Residual'] \n",
      "\n",
      "\n",
      "Year 2017\n",
      ".......................................................................................................................................\n",
      "['Country', 'Happiness.Rank', 'Happiness.Score', 'Whisker.high', 'Whisker.low', 'Economy..GDP.per.Capita.', 'Family', 'Health..Life.Expectancy.', 'Freedom', 'Generosity', 'Trust..Government.Corruption.', 'Dystopia.Residual'] \n",
      "\n",
      "\n",
      "Year 2018\n",
      ".......................................................................................................................................\n",
      "['Overall rank', 'Country or region', 'Score', 'GDP per capita', 'Social support', 'Healthy life expectancy', 'Freedom to make life choices', 'Generosity', 'Perceptions of corruption'] \n",
      "\n",
      "\n",
      "Year 2019\n",
      ".......................................................................................................................................\n",
      "['Overall rank', 'Country or region', 'Score', 'GDP per capita', 'Social support', 'Healthy life expectancy', 'Freedom to make life choices', 'Generosity', 'Perceptions of corruption'] \n",
      "\n",
      "\n",
      "Year 2020\n",
      ".......................................................................................................................................\n",
      "['Country name', 'Regional indicator', 'Ladder score', 'Standard error of ladder score', 'upperwhisker', 'lowerwhisker', 'Logged GDP per capita', 'Social support', 'Healthy life expectancy', 'Freedom to make life choices', 'Generosity', 'Perceptions of corruption', 'Ladder score in Dystopia', 'Explained by: Log GDP per capita', 'Explained by: Social support', 'Explained by: Healthy life expectancy', 'Explained by: Freedom to make life choices', 'Explained by: Generosity', 'Explained by: Perceptions of corruption', 'Dystopia + residual'] \n",
      "\n",
      "\n"
     ]
    }
   ],
   "source": [
    "for i in range(len(master_df)):\n",
    "    print(\"Year\", 2015+i)\n",
    "    print(\".\" * 135)\n",
    "    print([master_df[i].columns[j] for j in range(len(master_df[i].columns))], \"\\n\\n\")"
   ]
  },
  {
   "cell_type": "code",
   "execution_count": 213,
   "metadata": {},
   "outputs": [
    {
     "name": "stdout",
     "output_type": "stream",
     "text": [
      "0 ['Country' 'Region' 'Happiness Rank' 'Happiness Score']\n",
      "1 ['Country' 'Region' 'Happiness Rank' 'Happiness Score']\n",
      "2 ['Country' 'Happiness.Rank' 'Happiness.Score' 'Whisker.high']\n",
      "3 ['Overall rank' 'Country or region' 'Score' 'GDP per capita']\n",
      "4 ['Overall rank' 'Country or region' 'Score' 'GDP per capita']\n",
      "5 ['Country name' 'Regional indicator' 'Ladder score'\n",
      " 'Standard error of ladder score']\n"
     ]
    }
   ],
   "source": [
    "for i in range(len(master_df)):\n",
    "    print(i, master_df[i].columns[0:4].values)"
   ]
  },
  {
   "cell_type": "code",
   "execution_count": 214,
   "metadata": {},
   "outputs": [],
   "source": [
    "master_df[3] = master_df[3][['Country or region','Overall rank', 'Score', 'GDP per capita',\n",
    "                           'Social support', 'Healthy life expectancy',\n",
    "                           'Freedom to make life choices', 'Generosity',\n",
    "                           'Perceptions of corruption']]\n",
    "\n",
    "master_df[4] = master_df[4][['Country or region', 'Overall rank', 'Score', 'GDP per capita',\n",
    "                           'Social support', 'Healthy life expectancy',\n",
    "                           'Freedom to make life choices', 'Generosity',\n",
    "                           'Perceptions of corruption']]"
   ]
  },
  {
   "cell_type": "code",
   "execution_count": 215,
   "metadata": {},
   "outputs": [],
   "source": [
    "master_df[3].rename(columns={'Country or region': 'Country'}, inplace=True)\n",
    "master_df[4].rename(columns={'Country or region': 'Country'}, inplace=True)\n",
    "master_df[5].rename(columns={'Country name': 'Country'}, inplace=True)"
   ]
  },
  {
   "cell_type": "code",
   "execution_count": 216,
   "metadata": {},
   "outputs": [
    {
     "name": "stdout",
     "output_type": "stream",
     "text": [
      "0 ['Country' 'Region' 'Happiness Rank']\n",
      "1 ['Country' 'Region' 'Happiness Rank']\n",
      "2 ['Country' 'Happiness.Rank' 'Happiness.Score']\n",
      "3 ['Country' 'Overall rank' 'Score']\n",
      "4 ['Country' 'Overall rank' 'Score']\n",
      "5 ['Country' 'Regional indicator' 'Ladder score']\n"
     ]
    }
   ],
   "source": [
    "for i in range(len(master_df)):\n",
    "    print(i, master_df[i].columns[0:3].values)"
   ]
  },
  {
   "cell_type": "code",
   "execution_count": 217,
   "metadata": {},
   "outputs": [],
   "source": [
    "happiness_feature = \"Happiness\""
   ]
  },
  {
   "cell_type": "code",
   "execution_count": 218,
   "metadata": {},
   "outputs": [],
   "source": [
    "master_df[0].drop(['Region', 'Happiness Rank'], axis=1, inplace=True)\n",
    "master_df[0].rename(columns={'Happiness Score': happiness_feature}, inplace=True)"
   ]
  },
  {
   "cell_type": "code",
   "execution_count": 219,
   "metadata": {},
   "outputs": [],
   "source": [
    "master_df[1].drop(['Region', 'Happiness Rank'], axis=1, inplace=True)\n",
    "master_df[1].rename(columns={'Happiness Score': happiness_feature}, inplace=True)"
   ]
  },
  {
   "cell_type": "code",
   "execution_count": 220,
   "metadata": {},
   "outputs": [],
   "source": [
    "master_df[2].drop(['Happiness.Rank'], axis=1, inplace=True)\n",
    "master_df[2].rename(columns={'Happiness.Score': happiness_feature}, inplace=True)"
   ]
  },
  {
   "cell_type": "code",
   "execution_count": 221,
   "metadata": {},
   "outputs": [],
   "source": [
    "master_df[3].drop(['Overall rank'], axis=1, inplace=True)\n",
    "master_df[3].rename(columns={'Score': happiness_feature}, inplace=True)"
   ]
  },
  {
   "cell_type": "code",
   "execution_count": 222,
   "metadata": {},
   "outputs": [],
   "source": [
    "master_df[4].drop(['Overall rank'], axis=1, inplace=True)\n",
    "master_df[4].rename(columns={'Score': happiness_feature}, inplace=True)"
   ]
  },
  {
   "cell_type": "code",
   "execution_count": 223,
   "metadata": {},
   "outputs": [],
   "source": [
    "master_df[5].drop(['Regional indicator'], axis=1, inplace=True)\n",
    "master_df[5].rename(columns={'Ladder score': happiness_feature}, inplace=True)"
   ]
  },
  {
   "cell_type": "code",
   "execution_count": 224,
   "metadata": {},
   "outputs": [
    {
     "name": "stdout",
     "output_type": "stream",
     "text": [
      "0 ['Country' 'Happiness' 'Standard Error']\n",
      "1 ['Country' 'Happiness' 'Lower Confidence Interval']\n",
      "2 ['Country' 'Happiness' 'Whisker.high']\n",
      "3 ['Country' 'Happiness' 'GDP per capita']\n",
      "4 ['Country' 'Happiness' 'GDP per capita']\n",
      "5 ['Country' 'Happiness' 'Standard error of ladder score']\n"
     ]
    }
   ],
   "source": [
    "for i in range(len(master_df)):\n",
    "    print(i, master_df[i].columns[0:3].values)"
   ]
  },
  {
   "cell_type": "code",
   "execution_count": 225,
   "metadata": {},
   "outputs": [
    {
     "data": {
      "image/png": "[encoded data removed]",
      "text/plain": [
       "<Figure size 432x288 with 6 Axes>"
      ]
     },
     "metadata": {
      "needs_background": "light"
     },
     "output_type": "display_data"
    }
   ],
   "source": [
    "fig, axs = plt.subplots(3,2, sharex=True, sharey=True)\n",
    "fig.suptitle('Distribution of values for \\'Happiness Score\\' feature')\n",
    "for i in range(6):\n",
    "    axs[i % 3, i % 2].hist(master_df[i][\"Happiness\"], color='r')"
   ]
  },
  {
   "cell_type": "code",
   "execution_count": 226,
   "metadata": {},
   "outputs": [],
   "source": [
    "GDP_feature = \"GDP\""
   ]
  },
  {
   "cell_type": "code",
   "execution_count": 227,
   "metadata": {},
   "outputs": [],
   "source": [
    "master_df[0].drop(['Standard Error'], axis=1, inplace=True)\n",
    "master_df[0].rename(columns={'Economy (GDP per Capita)': GDP_feature}, inplace=True)"
   ]
  },
  {
   "cell_type": "code",
   "execution_count": 228,
   "metadata": {},
   "outputs": [],
   "source": [
    "master_df[1].drop(['Lower Confidence Interval', 'Upper Confidence Interval'],  axis=1, inplace=True)\n",
    "master_df[1].rename(columns={'Economy (GDP per Capita)': GDP_feature}, inplace=True)"
   ]
  },
  {
   "cell_type": "code",
   "execution_count": 229,
   "metadata": {},
   "outputs": [],
   "source": [
    "master_df[2].drop(['Whisker.high', 'Whisker.low'], axis=1, inplace=True)\n",
    "master_df[2].rename(columns={'Economy..GDP.per.Capita.': GDP_feature}, inplace=True)"
   ]
  },
  {
   "cell_type": "code",
   "execution_count": 230,
   "metadata": {},
   "outputs": [],
   "source": [
    "master_df[3].rename(columns={'GDP per capita': GDP_feature}, inplace=True)"
   ]
  },
  {
   "cell_type": "code",
   "execution_count": 231,
   "metadata": {},
   "outputs": [],
   "source": [
    "master_df[4].rename(columns={'GDP per capita': GDP_feature}, inplace=True)"
   ]
  },
  {
   "cell_type": "code",
   "execution_count": 232,
   "metadata": {},
   "outputs": [],
   "source": [
    "master_df[5].drop(['Standard error of ladder score','upperwhisker', 'lowerwhisker'], axis=1, inplace=True)\n",
    "master_df[5].rename(columns={'Logged GDP per capita': GDP_feature}, inplace=True)"
   ]
  },
  {
   "cell_type": "code",
   "execution_count": 233,
   "metadata": {},
   "outputs": [
    {
     "name": "stdout",
     "output_type": "stream",
     "text": [
      "0 ['Country' 'Happiness' 'GDP']\n",
      "1 ['Country' 'Happiness' 'GDP']\n",
      "2 ['Country' 'Happiness' 'GDP']\n",
      "3 ['Country' 'Happiness' 'GDP']\n",
      "4 ['Country' 'Happiness' 'GDP']\n",
      "5 ['Country' 'Happiness' 'GDP']\n"
     ]
    }
   ],
   "source": [
    "for i in range(len(master_df)):\n",
    "    print(i, master_df[i].columns[0:3].values)"
   ]
  },
  {
   "cell_type": "code",
   "execution_count": 234,
   "metadata": {},
   "outputs": [
    {
     "name": "stdout",
     "output_type": "stream",
     "text": [
      "0 ['Family' 'Health (Life Expectancy)' 'Freedom']\n",
      "1 ['Family' 'Health (Life Expectancy)' 'Freedom']\n",
      "2 ['Family' 'Health..Life.Expectancy.' 'Freedom']\n",
      "3 ['Social support' 'Healthy life expectancy' 'Freedom to make life choices']\n",
      "4 ['Social support' 'Healthy life expectancy' 'Freedom to make life choices']\n",
      "5 ['Social support' 'Healthy life expectancy' 'Freedom to make life choices']\n"
     ]
    }
   ],
   "source": [
    "for i in range(len(master_df)):\n",
    "    print(i, master_df[i].columns[3:6].values)"
   ]
  },
  {
   "cell_type": "code",
   "execution_count": 235,
   "metadata": {},
   "outputs": [
    {
     "data": {
      "image/png": "[encoded data removed]",
      "text/plain": [
       "<Figure size 432x288 with 3 Axes>"
      ]
     },
     "metadata": {
      "needs_background": "light"
     },
     "output_type": "display_data"
    }
   ],
   "source": [
    "fig, axs = plt.subplots(3, sharex=True, sharey=True)\n",
    "fig.suptitle('Distribution of values for \\'Family\\' feature')\n",
    "\n",
    "for i in range(3):\n",
    "    axs[i].hist(master_df[i][\"Family\"], color='r')"
   ]
  },
  {
   "cell_type": "code",
   "execution_count": 236,
   "metadata": {},
   "outputs": [
    {
     "data": {
      "image/png": "[encoded data removed]",
      "text/plain": [
       "<Figure size 432x288 with 3 Axes>"
      ]
     },
     "metadata": {
      "needs_background": "light"
     },
     "output_type": "display_data"
    }
   ],
   "source": [
    "fig, axs = plt.subplots(3, sharex=True, sharey=True)\n",
    "fig.suptitle('Distribution of values for \\'Social support\\' feature')\n",
    "\n",
    "for i in range(3,6):\n",
    "    axs[i - 3].hist(master_df[i][\"Social support\"], color='r')"
   ]
  },
  {
   "cell_type": "code",
   "execution_count": 237,
   "metadata": {},
   "outputs": [],
   "source": [
    "for i in range(3, 6):\n",
    "    master_df[i].rename(columns={\"Social support\": \"Family\"}, inplace=True)"
   ]
  },
  {
   "cell_type": "code",
   "execution_count": 238,
   "metadata": {},
   "outputs": [
    {
     "name": "stdout",
     "output_type": "stream",
     "text": [
      "0 ['Family' 'Health (Life Expectancy)' 'Freedom']\n",
      "1 ['Family' 'Health (Life Expectancy)' 'Freedom']\n",
      "2 ['Family' 'Health..Life.Expectancy.' 'Freedom']\n",
      "3 ['Family' 'Healthy life expectancy' 'Freedom to make life choices']\n",
      "4 ['Family' 'Healthy life expectancy' 'Freedom to make life choices']\n",
      "5 ['Family' 'Healthy life expectancy' 'Freedom to make life choices']\n"
     ]
    }
   ],
   "source": [
    "for i in range(len(master_df)):\n",
    "    print(i, master_df[i].columns[3:6].values)"
   ]
  },
  {
   "cell_type": "code",
   "execution_count": 239,
   "metadata": {},
   "outputs": [],
   "source": [
    "health_feature = \"Health\"\n",
    "master_df[0].rename(columns={\"Health (Life Expectancy)\": health_feature}, inplace=True)\n",
    "master_df[1].rename(columns={\"Health (Life Expectancy)\": health_feature}, inplace=True)\n",
    "master_df[2].rename(columns={\"Health..Life.Expectancy.\": health_feature}, inplace=True)\n",
    "master_df[3].rename(columns={\"Healthy life expectancy\": health_feature}, inplace=True)\n",
    "master_df[4].rename(columns={\"Healthy life expectancy\": health_feature}, inplace=True)\n",
    "master_df[5].rename(columns={\"Healthy life expectancy\": health_feature}, inplace=True)"
   ]
  },
  {
   "cell_type": "code",
   "execution_count": 240,
   "metadata": {},
   "outputs": [
    {
     "data": {
      "image/png": "[encoded data removed]",
      "text/plain": [
       "<Figure size 432x288 with 3 Axes>"
      ]
     },
     "metadata": {
      "needs_background": "light"
     },
     "output_type": "display_data"
    }
   ],
   "source": [
    "fig, axs = plt.subplots(3, sharex=True, sharey=True)\n",
    "fig.suptitle('Distribution of values for \\'Freedom\\' feature')\n",
    "\n",
    "for i in range(3):\n",
    "    axs[i].hist(master_df[i][\"Freedom\"], color='r')"
   ]
  },
  {
   "cell_type": "code",
   "execution_count": 241,
   "metadata": {},
   "outputs": [
    {
     "data": {
      "image/png": "[encoded data removed]",
      "text/plain": [
       "<Figure size 432x288 with 3 Axes>"
      ]
     },
     "metadata": {
      "needs_background": "light"
     },
     "output_type": "display_data"
    }
   ],
   "source": [
    "fig, axs = plt.subplots(3, sharex=True, sharey=True)\n",
    "fig.suptitle('Distribution of values for \\'Freedom to make life choices\\' feature')\n",
    "\n",
    "for i in range(3,6):\n",
    "    axs[i - 3].hist(master_df[i][\"Freedom to make life choices\"], color='r')"
   ]
  },
  {
   "cell_type": "code",
   "execution_count": 242,
   "metadata": {},
   "outputs": [],
   "source": [
    "for i in range(3, 6):\n",
    "    master_df[i].rename(columns={\"Freedom to make life choices\": \"Freedom\"}, inplace=True)"
   ]
  },
  {
   "cell_type": "code",
   "execution_count": 243,
   "metadata": {},
   "outputs": [
    {
     "name": "stdout",
     "output_type": "stream",
     "text": [
      "0 ['Family' 'Health' 'Freedom']\n",
      "1 ['Family' 'Health' 'Freedom']\n",
      "2 ['Family' 'Health' 'Freedom']\n",
      "3 ['Family' 'Health' 'Freedom']\n",
      "4 ['Family' 'Health' 'Freedom']\n",
      "5 ['Family' 'Health' 'Freedom']\n"
     ]
    }
   ],
   "source": [
    "for i in range(len(master_df)):\n",
    "    print(i, master_df[i].columns[3:6].values)"
   ]
  },
  {
   "cell_type": "code",
   "execution_count": 244,
   "metadata": {},
   "outputs": [
    {
     "name": "stdout",
     "output_type": "stream",
     "text": [
      "0 ['Trust (Government Corruption)' 'Generosity']\n",
      "1 ['Trust (Government Corruption)' 'Generosity']\n",
      "2 ['Generosity' 'Trust..Government.Corruption.']\n",
      "3 ['Generosity' 'Perceptions of corruption']\n",
      "4 ['Generosity' 'Perceptions of corruption']\n",
      "5 ['Generosity' 'Perceptions of corruption']\n"
     ]
    }
   ],
   "source": [
    "for i in range(len(master_df)):\n",
    "    print(i, master_df[i].columns[6:8].values)"
   ]
  },
  {
   "cell_type": "code",
   "execution_count": 245,
   "metadata": {},
   "outputs": [],
   "source": [
    "master_df[0].columns = ['Country', 'Happiness', 'GDP', 'Family', 'Health', 'Freedom',\n",
    "       'Generosity', 'Trust (Government Corruption)', 'Dystopia Residual']\n",
    "\n",
    "master_df[1].columns = ['Country', 'Happiness', 'GDP', 'Family', 'Health', 'Freedom',\n",
    "       'Generosity', 'Trust (Government Corruption)', 'Dystopia Residual']"
   ]
  },
  {
   "cell_type": "code",
   "execution_count": 246,
   "metadata": {},
   "outputs": [
    {
     "name": "stdout",
     "output_type": "stream",
     "text": [
      "0 ['Generosity' 'Trust (Government Corruption)']\n",
      "1 ['Generosity' 'Trust (Government Corruption)']\n",
      "2 ['Generosity' 'Trust..Government.Corruption.']\n",
      "3 ['Generosity' 'Perceptions of corruption']\n",
      "4 ['Generosity' 'Perceptions of corruption']\n",
      "5 ['Generosity' 'Perceptions of corruption']\n"
     ]
    }
   ],
   "source": [
    "for i in range(len(master_df)):\n",
    "    print(i, master_df[i].columns[6:8].values)"
   ]
  },
  {
   "cell_type": "code",
   "execution_count": 248,
   "metadata": {},
   "outputs": [
    {
     "data": {
      "text/plain": [
       "(array([30., 52., 29., 16.,  3.,  8.,  9.,  1.,  4.,  3.]),\n",
       " array([0. , 0.1, 0.2, 0.3, 0.4, 0.5, 0.6, 0.7, 0.8, 0.9, 1. ]),\n",
       " <a list of 10 Patch objects>)"
      ]
     },
     "execution_count": 248,
     "metadata": {},
     "output_type": "execute_result"
    },
    {
     "data": {
      "image/png": "[encoded data removed]",
      "text/plain": [
       "<Figure size 432x288 with 3 Axes>"
      ]
     },
     "metadata": {
      "needs_background": "light"
     },
     "output_type": "display_data"
    }
   ],
   "source": [
    "fig, axs = plt.subplots(3, sharex=True, sharey=True)\n",
    "fig.suptitle('Distribution of values for \\'Trust Government Corruption \\' feature')\n",
    "\n",
    "for i in range(2):\n",
    "    axs[i].hist(master_df[i][\"Trust (Government Corruption)\"], color='r')\n",
    "axs[2].hist(master_df[2][\"Trust..Government.Corruption.\"], color='r')"
   ]
  },
  {
   "cell_type": "code",
   "execution_count": 250,
   "metadata": {},
   "outputs": [
    {
     "data": {
      "image/png": "[encoded data removed]",
      "text/plain": [
       "<Figure size 432x288 with 3 Axes>"
      ]
     },
     "metadata": {
      "needs_background": "light"
     },
     "output_type": "display_data"
    }
   ],
   "source": [
    "master_df[5][\"Perceptions of corruption\"] = 1 - master_df[5][\"Perceptions of corruption\"]\n",
    "\n",
    "fig, axs = plt.subplots(3, sharex=True, sharey=True)\n",
    "fig.suptitle('Distribution of values for \\'Perceptions of corruption\\' feature')\n",
    "\n",
    "for i in range(3,6):\n",
    "    axs[i - 3].hist(master_df[i][\"Perceptions of corruption\"], color='r')"
   ]
  },
  {
   "cell_type": "code",
   "execution_count": 251,
   "metadata": {},
   "outputs": [],
   "source": [
    "trust_gov_feature = \"Trust_gov\"\n",
    "master_df[0].rename(columns={\"Trust (Government Corruption)\": trust_gov_feature}, inplace=True)\n",
    "master_df[1].rename(columns={\"Trust (Government Corruption)\": trust_gov_feature}, inplace=True)\n",
    "master_df[2].rename(columns={\"Trust..Government.Corruption.\": trust_gov_feature}, inplace=True)\n",
    "master_df[3].rename(columns={\"Perceptions of corruption\": trust_gov_feature}, inplace=True)\n",
    "master_df[4].rename(columns={\"Perceptions of corruption\": trust_gov_feature}, inplace=True)\n",
    "master_df[5].rename(columns={\"Perceptions of corruption\": trust_gov_feature}, inplace=True)"
   ]
  },
  {
   "cell_type": "code",
   "execution_count": 264,
   "metadata": {},
   "outputs": [
    {
     "name": "stdout",
     "output_type": "stream",
     "text": [
      "0 ['Dystopia Residual']\n",
      "1 ['Dystopia Residual']\n",
      "2 ['Dystopia.Residual']\n",
      "3 []\n",
      "4 []\n",
      "5 ['Ladder score in Dystopia' 'Explained by: Log GDP per capita'\n",
      " 'Explained by: Social support' 'Explained by: Healthy life expectancy'\n",
      " 'Explained by: Freedom to make life choices' 'Explained by: Generosity'\n",
      " 'Explained by: Perceptions of corruption' 'Dystopia + residual']\n"
     ]
    }
   ],
   "source": [
    "for i in range(len(master_df)):\n",
    "    print(i, master_df[i].columns[8:16].values)"
   ]
  },
  {
   "cell_type": "code",
   "execution_count": 268,
   "metadata": {},
   "outputs": [],
   "source": [
    "master_features = ['Country', 'Happiness', 'GDP', 'Family', 'Health', 'Freedom', 'Generosity', 'Trust_gov']\n",
    "for i in range(len(master_df)):\n",
    "    for col in master_df[i].columns:\n",
    "        if col not in master_features:\n",
    "            master_df[i].drop(col, axis=1, inplace=True)"
   ]
  },
  {
   "cell_type": "code",
   "execution_count": 269,
   "metadata": {},
   "outputs": [
    {
     "name": "stdout",
     "output_type": "stream",
     "text": [
      "Year 2015\n",
      ".......................................................................................................................................\n",
      "['Country', 'Happiness', 'GDP', 'Family', 'Health', 'Freedom', 'Generosity', 'Trust_gov'] \n",
      "\n",
      "\n",
      "Year 2016\n",
      ".......................................................................................................................................\n",
      "['Country', 'Happiness', 'GDP', 'Family', 'Health', 'Freedom', 'Generosity', 'Trust_gov'] \n",
      "\n",
      "\n",
      "Year 2017\n",
      ".......................................................................................................................................\n",
      "['Country', 'Happiness', 'GDP', 'Family', 'Health', 'Freedom', 'Generosity', 'Trust_gov'] \n",
      "\n",
      "\n",
      "Year 2018\n",
      ".......................................................................................................................................\n",
      "['Country', 'Happiness', 'GDP', 'Family', 'Health', 'Freedom', 'Generosity', 'Trust_gov'] \n",
      "\n",
      "\n",
      "Year 2019\n",
      ".......................................................................................................................................\n",
      "['Country', 'Happiness', 'GDP', 'Family', 'Health', 'Freedom', 'Generosity', 'Trust_gov'] \n",
      "\n",
      "\n",
      "Year 2020\n",
      ".......................................................................................................................................\n",
      "['Country', 'Happiness', 'GDP', 'Family', 'Health', 'Freedom', 'Generosity', 'Trust_gov'] \n",
      "\n",
      "\n"
     ]
    }
   ],
   "source": [
    "for i in range(len(master_df)):\n",
    "    print(\"Year\", 2015+i)\n",
    "    print(\".\" * 135)\n",
    "    print([master_df[i].columns[j] for j in range(len(master_df[i].columns))], \"\\n\\n\")"
   ]
  },
  {
   "cell_type": "code",
   "execution_count": null,
   "metadata": {},
   "outputs": [],
   "source": []
  }
 ],
 "metadata": {
  "kernelspec": {
   "display_name": "Python 3",
   "language": "python",
   "name": "python3"
  },
  "language_info": {
   "codemirror_mode": {
    "name": "ipython",
    "version": 3
   },
   "file_extension": ".py",
   "mimetype": "text/x-python",
   "name": "python",
   "nbconvert_exporter": "python",
   "pygments_lexer": "ipython3",
   "version": "3.7.3"
  }
 },
 "nbformat": 4,
 "nbformat_minor": 2
}
